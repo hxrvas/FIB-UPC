{
  "nbformat": 4,
  "nbformat_minor": 0,
  "metadata": {
    "colab": {
      "provenance": []
    },
    "kernelspec": {
      "name": "python3",
      "display_name": "Python 3"
    },
    "language_info": {
      "name": "python"
    },
    "accelerator": "GPU",
    "gpuClass": "standard"
  },
  "cells": [
    {
      "cell_type": "code",
      "execution_count": 1,
      "metadata": {
        "id": "hWo9r9tHM2Q_"
      },
      "outputs": [],
      "source": [
        "import tensorflow as tf\n",
        "from tensorflow import keras"
      ]
    },
    {
      "cell_type": "code",
      "source": [
        "import pandas as pd\n",
        "from pandas import read_csv\n",
        "\n",
        "import numpy as np\n",
        "import matplotlib.pyplot as plt\n",
        "import seaborn as sns\n",
        "\n",
        "from sklearn.model_selection import train_test_split, cross_val_score\n",
        "\n",
        "from sklearn.preprocessing import MinMaxScaler\n",
        "from sklearn.impute import SimpleImputer\n",
        "from sklearn import set_config\n",
        "\n",
        "from sklearn.metrics import  ConfusionMatrixDisplay,\\\n",
        "                  classification_report,  RocCurveDisplay, PrecisionRecallDisplay,\\\n",
        "                    accuracy_score, f1_score, precision_score, recall_score\n",
        "\n",
        "\n",
        "from sklearn.discriminant_analysis import LinearDiscriminantAnalysis, QuadraticDiscriminantAnalysis\n",
        "from sklearn.linear_model import LogisticRegression\n",
        "from sklearn.naive_bayes import BernoulliNB, GaussianNB, CategoricalNB, MultinomialNB\n",
        "\n",
        "from sklearn.model_selection import GridSearchCV\n",
        "\n",
        "from yellowbrick.target.feature_correlation import feature_correlation\n",
        "from yellowbrick.classifier import precision_recall_curve\n",
        "\n",
        "import warnings\n",
        "\n",
        "set_config(display='text')\n",
        "warnings.filterwarnings('ignore')\n",
        "plt.rcParams.update({'font.size': 16})\n",
        "pd.set_option('display.precision', 3)"
      ],
      "metadata": {
        "id": "THmli-nvNtUq"
      },
      "execution_count": 2,
      "outputs": []
    },
    {
      "cell_type": "markdown",
      "source": [
        "La primera tarea es obtener los datos. Esto se puede hacer usando la función de scikit-learn\n",
        "fetch_olivetti_faces(return_X_y=True) que devolverá dos matrices de datos, una para los datos de entrada y otra para las etiquetas. Deberás dividir los datos en un conjunto\n",
        "de entrenamiento y test (70 %/30 %) y normalizar los datos para que estén en el rango [0-1]\n",
        "(simplemente divide los datos por el valor máximo de los píxeles).\n"
      ],
      "metadata": {
        "id": "xRfJZPPcNs_-"
      }
    },
    {
      "cell_type": "code",
      "source": [
        "from sklearn.datasets import fetch_olivetti_faces\n",
        "X, y = fetch_olivetti_faces(return_X_y=True)"
      ],
      "metadata": {
        "id": "lJJiMlxsNCEJ",
        "colab": {
          "base_uri": "https://localhost:8080/"
        },
        "outputId": "4d2872dc-c9cb-4b5d-e042-4b29a6cf5458"
      },
      "execution_count": 3,
      "outputs": [
        {
          "output_type": "stream",
          "name": "stdout",
          "text": [
            "downloading Olivetti faces from https://ndownloader.figshare.com/files/5976027 to /root/scikit_learn_data\n"
          ]
        }
      ]
    },
    {
      "cell_type": "code",
      "source": [
        "X_train, X_test, y_train, y_test = train_test_split(X, y, test_size=0.3, random_state=42)"
      ],
      "metadata": {
        "id": "2SrRrK7iN6YJ"
      },
      "execution_count": 4,
      "outputs": []
    },
    {
      "cell_type": "markdown",
      "source": [
        "Transforma las etiquetas del problema en una matriz con codificación one-hot utilizando\n",
        "la clase scikit learn OneHotEncoder (sin salida dispersa). Ahora tenemos el conjunto de\n",
        "datos listo para entrenar."
      ],
      "metadata": {
        "id": "Dht2EK5FPRUh"
      }
    },
    {
      "cell_type": "code",
      "source": [
        "from sklearn.preprocessing import OneHotEncoder\n",
        "ohe = OneHotEncoder(sparse=False)\n",
        "yohe_train = ohe.fit_transform(y_train.reshape(-1, 1))\n",
        "yohe_test = ohe.transform(y_test.reshape(-1, 1))"
      ],
      "metadata": {
        "id": "cN990KH8PVq8"
      },
      "execution_count": 8,
      "outputs": []
    },
    {
      "cell_type": "markdown",
      "source": [
        "Aplica el PCA a las imágenes y\n",
        "genera dos conjuntos de datos utilizando los primeros 10 y 20 componentes (no hace falta\n",
        "que estandarices los datos)."
      ],
      "metadata": {
        "id": "1QQV0iMWQs_9"
      }
    },
    {
      "cell_type": "code",
      "source": [
        "from sklearn.decomposition import PCA\n",
        "myPCA = PCA().fit(X_train);"
      ],
      "metadata": {
        "id": "Smu9BT4kQ6j5"
      },
      "execution_count": null,
      "outputs": []
    },
    {
      "cell_type": "code",
      "source": [
        "fig = plt.figure(figsize=(8,6))\n",
        "plt.plot(range(1,len(myPCA.singular_values_ )+1),myPCA.singular_values_ ,alpha=0.8,marker='.')\n",
        "y_label = plt.ylabel('Eigenvalues')\n",
        "x_label = plt.xlabel('Componentes')\n",
        "plt.title('Scree plot')\n",
        "plt.show()"
      ],
      "metadata": {
        "colab": {
          "base_uri": "https://localhost:8080/",
          "height": 403
        },
        "id": "Zn0tq7eI_wzu",
        "outputId": "2cf6c2b9-5c19-4887-84db-361c1b31ca47"
      },
      "execution_count": null,
      "outputs": [
        {
          "output_type": "display_data",
          "data": {
            "text/plain": [
              "<Figure size 576x432 with 1 Axes>"
            ],
            "image/png": "[encoded data removed]"
          },
          "metadata": {}
        }
      ]
    },
    {
      "cell_type": "code",
      "source": [
        "fig = plt.figure(figsize=(8,6))\n",
        "plt.plot(range(1,len(myPCA.explained_variance_ratio_ )+1),myPCA.explained_variance_ratio_ ,alpha=0.8,marker='.',label=\"Variancia Explicada\")\n",
        "y_label = plt.ylabel('Variancia explicada')\n",
        "x_label = plt.xlabel('Componentes')\n",
        "plt.plot(range(1,len(myPCA.explained_variance_ratio_ )+1),\n",
        "         np.cumsum(myPCA.explained_variance_ratio_),\n",
        "         c='red',marker='.',\n",
        "         label=\"Variancia explicada acumulativa\")\n",
        "plt.legend()\n",
        "plt.title('Porcentaje de variancia explicada por componente')\n",
        "plt.show()"
      ],
      "metadata": {
        "colab": {
          "base_uri": "https://localhost:8080/",
          "height": 403
        },
        "id": "GBs9Pvfs_xpI",
        "outputId": "8455c515-cb84-4a31-cb6a-af3aad7679ee"
      },
      "execution_count": null,
      "outputs": [
        {
          "output_type": "display_data",
          "data": {
            "text/plain": [
              "<Figure size 576x432 with 1 Axes>"
            ],
            "image/png": "[encoded data removed]"
          },
          "metadata": {}
        }
      ]
    },
    {
      "cell_type": "code",
      "source": [
        "PCAtrain10 = myPCA.transform(X_train)[:, :10]\n",
        "PCAtrain20 = myPCA.transform(X_train)[:, :20]\n",
        "\n",
        "PCAtest10 = myPCA.transform(X_test)[:, :10]\n",
        "PCAtest20 = myPCA.transform(X_test)[:, :20]"
      ],
      "metadata": {
        "id": "51Xv2P0T_2DS"
      },
      "execution_count": null,
      "outputs": []
    },
    {
      "cell_type": "markdown",
      "source": [
        "Entrena el perceptrón con los dos conjuntos de datos explorando tamaños para la capa\n",
        "oculta de 25 a 100 neuronas en pasos de 25 en 25 usando lotes de 16 ejemplos y 200\n",
        "épocas. Calcula el acierto de los modelos. Para ello puedes utilizar el método predict del\n",
        "objeto modelo. Tendrás que transformar el vector de predicciones del softmax a etiquetas\n",
        "empleando la función np.argmax. Dado que no hacemos validación cruzada nos fijaremos\n",
        "en el acierto sobre los datos de entrenamiento y de test. Escoge el modelo que tenga el mejor\n",
        "resultado. ¿Un número mayor de neuronas en la red corresponde con un mejor modelo?\n",
        "¿Por qué?"
      ],
      "metadata": {
        "id": "x2LccTkBQ64Q"
      }
    },
    {
      "cell_type": "code",
      "source": [
        "BATCH_SIZE = 16\n",
        "EPOCHS = 200"
      ],
      "metadata": {
        "id": "G3GKBDWxAs8n"
      },
      "execution_count": 6,
      "outputs": []
    },
    {
      "cell_type": "code",
      "source": [
        "for NEURONS in range(25, 101, 25):\n",
        "  model = keras.Sequential()\n",
        "  model.add(keras.Input(shape=(10,)))\n",
        "  model.add(keras.layers.Dense(NEURONS, activation=\"relu\"))\n",
        "  model.add(keras.layers.Dense(40, activation=\"softmax\"))\n",
        "  model.compile(optimizer=keras.optimizers.SGD(),\n",
        "  loss=tf.keras.losses.CategoricalCrossentropy())\n",
        "  model.fit(PCAtrain10,yohe_train,batch_size=BATCH_SIZE,\n",
        "  epochs=EPOCHS,verbose=False)\n",
        "  pred=model.predict(PCAtrain10)\n",
        "  pred_label = np.argmax(pred, axis=1)\n",
        "  print(\"MODEL WITH \"+str(NEURONS)+\" NEURONS (train)\")\n",
        "  print(classification_report(pred_label, y_train,output_dict = True)['accuracy'])\n",
        "  pred=model.predict(PCAtest10)\n",
        "  pred_label = np.argmax(pred, axis=1)\n",
        "  print(\"MODEL WITH \"+str(NEURONS)+\" NEURONS (test)\")\n",
        "  print(classification_report(pred_label, y_test,output_dict = True)['accuracy'])"
      ],
      "metadata": {
        "id": "0f35945xRFWr",
        "colab": {
          "base_uri": "https://localhost:8080/"
        },
        "outputId": "7a72fceb-f8bd-4177-e57a-18fec8859403"
      },
      "execution_count": null,
      "outputs": [
        {
          "output_type": "stream",
          "name": "stdout",
          "text": [
            "9/9 [==============================] - 0s 2ms/step\n",
            "MODEL WITH 25 NEURONS (train)\n",
            "0.975\n",
            "4/4 [==============================] - 0s 2ms/step\n",
            "MODEL WITH 25 NEURONS (test)\n",
            "0.7916666666666666\n",
            "9/9 [==============================] - 0s 2ms/step\n",
            "MODEL WITH 50 NEURONS (train)\n",
            "0.9964285714285714\n",
            "4/4 [==============================] - 0s 2ms/step\n",
            "MODEL WITH 50 NEURONS (test)\n",
            "0.8333333333333334\n",
            "9/9 [==============================] - 0s 2ms/step\n",
            "MODEL WITH 75 NEURONS (train)\n",
            "0.9928571428571429\n",
            "4/4 [==============================] - 0s 2ms/step\n",
            "MODEL WITH 75 NEURONS (test)\n",
            "0.7916666666666666\n",
            "9/9 [==============================] - 0s 3ms/step\n",
            "MODEL WITH 100 NEURONS (train)\n",
            "0.9964285714285714\n",
            "4/4 [==============================] - 0s 2ms/step\n",
            "MODEL WITH 100 NEURONS (test)\n",
            "0.825\n"
          ]
        }
      ]
    },
    {
      "cell_type": "code",
      "source": [
        "for NEURONS in range(25, 101, 25):\n",
        "  model = keras.Sequential()\n",
        "  model.add(keras.Input(shape=(20,)))\n",
        "  model.add(keras.layers.Dense(NEURONS, activation=\"relu\"))\n",
        "  model.add(keras.layers.Dense(40, activation=\"softmax\"))\n",
        "  model.compile(optimizer=keras.optimizers.SGD(),\n",
        "  loss=tf.keras.losses.CategoricalCrossentropy())\n",
        "  model.fit(PCAtrain20,yohe_train,batch_size=BATCH_SIZE,\n",
        "  epochs=EPOCHS,verbose=False)\n",
        "  pred=model.predict(PCAtrain20)\n",
        "  pred_label = np.argmax(pred, axis=1)\n",
        "  print(\"MODEL WITH \"+str(NEURONS)+\" NEURONS (train)\")\n",
        "  print(classification_report(pred_label, y_train,output_dict = True)['accuracy'])\n",
        "  pred=model.predict(PCAtest20)\n",
        "  pred_label = np.argmax(pred, axis=1)\n",
        "  print(\"MODEL WITH \"+str(NEURONS)+\" NEURONS (test)\")\n",
        "  print(classification_report(pred_label, y_test,output_dict = True)['accuracy'])"
      ],
      "metadata": {
        "colab": {
          "base_uri": "https://localhost:8080/"
        },
        "id": "VWA0-nwYH_T3",
        "outputId": "961315f7-a35e-4bf9-9f55-b4e0fe7da212"
      },
      "execution_count": null,
      "outputs": [
        {
          "output_type": "stream",
          "name": "stdout",
          "text": [
            "9/9 [==============================] - 0s 2ms/step\n",
            "MODEL WITH 25 NEURONS (train)\n",
            "1.0\n",
            "4/4 [==============================] - 0s 2ms/step\n",
            "MODEL WITH 25 NEURONS (test)\n",
            "0.8833333333333333\n",
            "9/9 [==============================] - 0s 2ms/step\n",
            "MODEL WITH 50 NEURONS (train)\n",
            "1.0\n",
            "4/4 [==============================] - 0s 2ms/step\n",
            "MODEL WITH 50 NEURONS (test)\n",
            "0.8583333333333333\n",
            "9/9 [==============================] - 0s 2ms/step\n",
            "MODEL WITH 75 NEURONS (train)\n",
            "1.0\n",
            "4/4 [==============================] - 0s 2ms/step\n",
            "MODEL WITH 75 NEURONS (test)\n",
            "0.9083333333333333\n",
            "9/9 [==============================] - 0s 2ms/step\n",
            "MODEL WITH 100 NEURONS (train)\n",
            "1.0\n",
            "4/4 [==============================] - 0s 2ms/step\n",
            "MODEL WITH 100 NEURONS (test)\n",
            "0.9166666666666666\n"
          ]
        }
      ]
    },
    {
      "cell_type": "markdown",
      "source": [
        "El modelo que mejor funciona es el que utiliza 20 componentes del PCA y tiene 100 neuronas. Aunque en este caso parece que la tendencia es que a más neuronas funciona mejor, no siempre más neuronas implica mejor funcionamiento. Un número demmasiado pequeño de neuronas producirá underfitting, pero uno demasiado grande producirá overfitting, lo cual tampoco es deseable."
      ],
      "metadata": {
        "id": "uTKni8BqHlBD"
      }
    },
    {
      "cell_type": "markdown",
      "source": [
        "Una alternativa a los MLP son las capas convolucionales. Como hemos visto en clase, se\n",
        "trata de redes neuronales inspiradas en el funcionamiento de la corteza visual y especializadas en problemas de visión. Repasa lo que vimos en teoría para entender como funcionan.\n",
        "Vamos a utilizar una capa convolucional para clasificar el conjunto de datos original. Como la entrada debe ser una matriz cuadrada, tendremos que transformar la forma de la\n",
        "matriz entrada. Además, las capas convolucionales se usan para procesar imágenes en color, por lo que asumen que cada imagen es una matriz 3D, la tercera dimensión es para los\n",
        "canales de color. En este caso, las imágenes son en escala de grises, por lo que tendremos que simular que tenemos una dimensión adicional. Podemos usar numpy para transformar\n",
        "los datos de entrenamiento y test usando la función reshape (X.reshape(-1,64,64,1)),\n",
        "esto dará como resultado una matriz 4D, la primera dimensión son los ejemplos, las otras\n",
        "tres son la imagen de cada ejemplo.\n",
        "En este caso vamos a explorar el número de neuronas (filters) de la capa convolucional\n",
        "fijando el paso de las convoluciones (stride) a 1 y el tamaño del kernel de las convoluciones\n",
        "a 3. Experimenta con un número de neuronas de 1 a 10."
      ],
      "metadata": {
        "id": "z7r7wkpARQgP"
      }
    },
    {
      "cell_type": "code",
      "source": [
        "X_train_square = X_train.reshape(-1, 64, 64, 1)\n",
        "X_test_square = X_test.reshape(-1, 64, 64, 1)"
      ],
      "metadata": {
        "id": "z8RG5Cj4RYt3"
      },
      "execution_count": null,
      "outputs": []
    },
    {
      "cell_type": "code",
      "source": [
        "for NEURONS in range(1, 11, 1):\n",
        "  model = keras.Sequential()\n",
        "  model.add(keras.Input(shape=(64,64,1,)))\n",
        "  model.add(keras.layers.Conv2D(filters=NEURONS, kernel_size=3,\n",
        "  strides=1, activation=\"relu\"))\n",
        "  model.add(keras.layers.Flatten())\n",
        "  model.add(keras.layers.Dense(40, activation=\"softmax\"))\n",
        "  model.compile(optimizer=keras.optimizers.SGD(),\n",
        "  loss=tf.keras.losses.CategoricalCrossentropy())\n",
        "  model.fit(X_train_square,yohe_train,batch_size=BATCH_SIZE,\n",
        "  epochs=EPOCHS,verbose=False)\n",
        "  pred=model.predict(X_train_square)\n",
        "  pred_label = np.argmax(pred, axis=1)\n",
        "  print(\"MODEL WITH \"+str(NEURONS)+\" NEURONS (train)\")\n",
        "  print(classification_report(pred_label, y_train,output_dict = True)['accuracy'])\n",
        "  pred=model.predict(X_test_square)\n",
        "  pred_label = np.argmax(pred, axis=1)\n",
        "  print(\"MODEL WITH \"+str(NEURONS)+\" NEURONS (test)\")\n",
        "  print(classification_report(pred_label, y_test,output_dict = True)['accuracy'])"
      ],
      "metadata": {
        "colab": {
          "base_uri": "https://localhost:8080/"
        },
        "id": "s6eNj6bYIgbH",
        "outputId": "c9923676-4952-419d-a55e-d57d853de5e5"
      },
      "execution_count": null,
      "outputs": [
        {
          "output_type": "stream",
          "name": "stdout",
          "text": [
            "9/9 [==============================] - 0s 5ms/step\n",
            "MODEL WITH 1 NEURONS (train)\n",
            "1.0\n",
            "4/4 [==============================] - 0s 3ms/step\n",
            "MODEL WITH 1 NEURONS (test)\n",
            "0.9166666666666666\n",
            "9/9 [==============================] - 0s 5ms/step\n",
            "MODEL WITH 2 NEURONS (train)\n",
            "1.0\n",
            "4/4 [==============================] - 0s 3ms/step\n",
            "MODEL WITH 2 NEURONS (test)\n",
            "0.9583333333333334\n",
            "9/9 [==============================] - 0s 4ms/step\n",
            "MODEL WITH 3 NEURONS (train)\n",
            "1.0\n",
            "4/4 [==============================] - 0s 3ms/step\n",
            "MODEL WITH 3 NEURONS (test)\n",
            "0.925\n",
            "9/9 [==============================] - 0s 4ms/step\n",
            "MODEL WITH 4 NEURONS (train)\n",
            "1.0\n",
            "4/4 [==============================] - 0s 3ms/step\n",
            "MODEL WITH 4 NEURONS (test)\n",
            "0.9583333333333334\n",
            "9/9 [==============================] - 0s 4ms/step\n",
            "MODEL WITH 5 NEURONS (train)\n",
            "1.0\n",
            "4/4 [==============================] - 0s 3ms/step\n",
            "MODEL WITH 5 NEURONS (test)\n",
            "0.9583333333333334\n",
            "9/9 [==============================] - 0s 4ms/step\n",
            "MODEL WITH 6 NEURONS (train)\n",
            "1.0\n",
            "4/4 [==============================] - 0s 3ms/step\n",
            "MODEL WITH 6 NEURONS (test)\n",
            "0.9583333333333334\n",
            "9/9 [==============================] - 0s 4ms/step\n",
            "MODEL WITH 7 NEURONS (train)\n",
            "1.0\n",
            "4/4 [==============================] - 0s 3ms/step\n",
            "MODEL WITH 7 NEURONS (test)\n",
            "0.95\n",
            "9/9 [==============================] - 0s 4ms/step\n",
            "MODEL WITH 8 NEURONS (train)\n",
            "1.0\n",
            "4/4 [==============================] - 0s 3ms/step\n",
            "MODEL WITH 8 NEURONS (test)\n",
            "0.9416666666666667\n",
            "9/9 [==============================] - 0s 5ms/step\n",
            "MODEL WITH 9 NEURONS (train)\n",
            "1.0\n",
            "4/4 [==============================] - 0s 3ms/step\n",
            "MODEL WITH 9 NEURONS (test)\n",
            "0.95\n",
            "9/9 [==============================] - 0s 5ms/step\n",
            "MODEL WITH 10 NEURONS (train)\n",
            "1.0\n",
            "4/4 [==============================] - 0s 3ms/step\n",
            "MODEL WITH 10 NEURONS (test)\n",
            "0.9416666666666667\n"
          ]
        }
      ]
    },
    {
      "cell_type": "markdown",
      "source": [
        "Calcula el acierto igual que en el apartado anterior y escoge el mejor modelo. Escoge cuál\n",
        "de los dos modelos (este y el del apartado anterior) te parece mejor."
      ],
      "metadata": {
        "id": "oagb5NYjRb4R"
      }
    },
    {
      "cell_type": "markdown",
      "source": [
        "El mejor modelo es el que tiene 5 neuronas. Me parece mejor este último modelo que el anterior, ya que al utilizar la convolución estamos esencialmente reduciendo detalle de la imagen, y así evitando overfitting, además de que la accuracy en general es superior."
      ],
      "metadata": {
        "id": "5unCuTpKdBtw"
      }
    },
    {
      "cell_type": "markdown",
      "source": [
        "El método count_params() de la clase Model calcula cuántos parámetros tiene la red\n",
        "y el método summary calcula los parámetros por capa. Dado cómo se definen las capas\n",
        "convolucionales y las densas, explica cómo se calculan los tamaños y la cantidad de parámetros de las capas en las redes. Compara y comenta los resultados que se obtienen en\n",
        "los dos tipos de redes que has definido y las ventajas/inconvenientes que tienen respecto a\n",
        "su número de parámetros. ¿Cuáles habrían sido los tamaños de las capas de la red MLP si\n",
        "hubiéramos usado los datos en su forma original?"
      ],
      "metadata": {
        "id": "kZHfnpudU88x"
      }
    },
    {
      "cell_type": "code",
      "source": [
        "NEURONS = 75\n",
        "model1 = keras.Sequential()\n",
        "model1.add(keras.Input(shape=(20,)))\n",
        "model1.add(keras.layers.Dense(NEURONS, activation=\"relu\"))\n",
        "model1.add(keras.layers.Dense(40, activation=\"softmax\"))\n",
        "model1.compile(optimizer=keras.optimizers.SGD(),\n",
        "loss=tf.keras.losses.CategoricalCrossentropy())\n",
        "model1.fit(PCAtrain20,yohe_train,batch_size=BATCH_SIZE,\n",
        "epochs=EPOCHS,verbose=False)"
      ],
      "metadata": {
        "colab": {
          "base_uri": "https://localhost:8080/"
        },
        "id": "3Wpe1zAZn3Ih",
        "outputId": "e73d5106-21ef-4e70-ec67-ad33d425361e"
      },
      "execution_count": null,
      "outputs": [
        {
          "output_type": "execute_result",
          "data": {
            "text/plain": [
              "<keras.callbacks.History at 0x7f1faa661310>"
            ]
          },
          "metadata": {},
          "execution_count": 20
        }
      ]
    },
    {
      "cell_type": "code",
      "source": [
        "NEURONS = 5\n",
        "model2 = keras.Sequential()\n",
        "model2.add(keras.Input(shape=(64,64,1,)))\n",
        "model2.add(keras.layers.Conv2D(filters=NEURONS, kernel_size=3,\n",
        "strides=1, activation=\"relu\"))\n",
        "model2.add(keras.layers.Flatten())\n",
        "model2.add(keras.layers.Dense(40, activation=\"softmax\"))\n",
        "model2.compile(optimizer=keras.optimizers.SGD(),\n",
        "loss=tf.keras.losses.CategoricalCrossentropy())\n",
        "model2.fit(X_train_square,yohe_train,batch_size=BATCH_SIZE,\n",
        "epochs=EPOCHS,verbose=False)"
      ],
      "metadata": {
        "id": "YQ3wJGRYU7iE",
        "colab": {
          "base_uri": "https://localhost:8080/"
        },
        "outputId": "979ec4c0-46ae-44c7-f63c-ba10bb4594af"
      },
      "execution_count": null,
      "outputs": [
        {
          "output_type": "execute_result",
          "data": {
            "text/plain": [
              "<keras.callbacks.History at 0x7f1f92745f70>"
            ]
          },
          "metadata": {},
          "execution_count": 21
        }
      ]
    },
    {
      "cell_type": "code",
      "source": [
        "model1.count_params()"
      ],
      "metadata": {
        "colab": {
          "base_uri": "https://localhost:8080/"
        },
        "id": "A9W_kFoXnjsg",
        "outputId": "e807b17c-b771-4e2e-9c94-47b8204ecb6b"
      },
      "execution_count": null,
      "outputs": [
        {
          "output_type": "execute_result",
          "data": {
            "text/plain": [
              "4615"
            ]
          },
          "metadata": {},
          "execution_count": 22
        }
      ]
    },
    {
      "cell_type": "code",
      "source": [
        "model1.summary()"
      ],
      "metadata": {
        "colab": {
          "base_uri": "https://localhost:8080/"
        },
        "id": "bEkV8uvynmas",
        "outputId": "f2f48062-2933-40cf-e63e-ae3fe9909d55"
      },
      "execution_count": null,
      "outputs": [
        {
          "output_type": "stream",
          "name": "stdout",
          "text": [
            "Model: \"sequential_21\"\n",
            "_________________________________________________________________\n",
            " Layer (type)                Output Shape              Param #   \n",
            "=================================================================\n",
            " dense_30 (Dense)            (None, 75)                1575      \n",
            "                                                                 \n",
            " dense_31 (Dense)            (None, 40)                3040      \n",
            "                                                                 \n",
            "=================================================================\n",
            "Total params: 4,615\n",
            "Trainable params: 4,615\n",
            "Non-trainable params: 0\n",
            "_________________________________________________________________\n"
          ]
        }
      ]
    },
    {
      "cell_type": "code",
      "source": [
        "model2.count_params()"
      ],
      "metadata": {
        "colab": {
          "base_uri": "https://localhost:8080/"
        },
        "id": "fLvFyBtKoGqj",
        "outputId": "4f2bcba8-8882-4612-ea34-b7ce41e7549b"
      },
      "execution_count": null,
      "outputs": [
        {
          "output_type": "execute_result",
          "data": {
            "text/plain": [
              "768890"
            ]
          },
          "metadata": {},
          "execution_count": 24
        }
      ]
    },
    {
      "cell_type": "code",
      "source": [
        "model2.summary()"
      ],
      "metadata": {
        "colab": {
          "base_uri": "https://localhost:8080/"
        },
        "id": "LBWoCSOtoGxo",
        "outputId": "d6f28c8a-1f1d-47ad-cd89-39abcd5046e1"
      },
      "execution_count": null,
      "outputs": [
        {
          "output_type": "stream",
          "name": "stdout",
          "text": [
            "Model: \"sequential_22\"\n",
            "_________________________________________________________________\n",
            " Layer (type)                Output Shape              Param #   \n",
            "=================================================================\n",
            " conv2d_12 (Conv2D)          (None, 62, 62, 5)         50        \n",
            "                                                                 \n",
            " flatten_12 (Flatten)        (None, 19220)             0         \n",
            "                                                                 \n",
            " dense_32 (Dense)            (None, 40)                768840    \n",
            "                                                                 \n",
            "=================================================================\n",
            "Total params: 768,890\n",
            "Trainable params: 768,890\n",
            "Non-trainable params: 0\n",
            "_________________________________________________________________\n"
          ]
        }
      ]
    },
    {
      "cell_type": "markdown",
      "source": [
        "El número de parámetros de las capas convolucionales se calcula como \n",
        "\n",
        "param_number = output_channel_number * (input_channel_number * kernel_height * kernel_width + 1)\n",
        "\n",
        " En el caso de arriba, dado que el filtro es de 3 * 3, seria ( 5 * (3 * 3 * 1)+1))  = 50. \n",
        "\n",
        "En las capas densas se calcula como \n",
        "\n",
        "param_number = output_channel_number * (input_channel_number + 1)\n",
        "\n",
        "Que en el caso de arriba sería (40 * (19220 + 1)) = 768840.\n",
        "\n",
        "Para la red MLP, si hubiéramos usado los datos en su forma original (4096 parametros), el resultado hubría sido de 307275 parámetros para la primera capa y los mismos 3040 para la segunda capa."
      ],
      "metadata": {
        "id": "PpNp6XPYddfO"
      }
    },
    {
      "cell_type": "code",
      "source": [
        "NEURONS = 75\n",
        "model = keras.Sequential()\n",
        "model.add(keras.Input(shape=(4096,)))\n",
        "model.add(keras.layers.Dense(NEURONS, activation=\"relu\"))\n",
        "model.add(keras.layers.Dense(40, activation=\"softmax\"))\n",
        "model.compile(optimizer=keras.optimizers.SGD(),\n",
        "loss=tf.keras.losses.CategoricalCrossentropy())\n",
        "model.fit(X_train,yohe_train,batch_size=BATCH_SIZE,\n",
        "epochs=EPOCHS,verbose=False)\n",
        "model.summary()"
      ],
      "metadata": {
        "colab": {
          "base_uri": "https://localhost:8080/"
        },
        "id": "kaR1_hCniDEl",
        "outputId": "378cd747-a4e5-4c22-b897-0dc2e716d1f8"
      },
      "execution_count": 10,
      "outputs": [
        {
          "output_type": "stream",
          "name": "stdout",
          "text": [
            "Model: \"sequential_3\"\n",
            "_________________________________________________________________\n",
            " Layer (type)                Output Shape              Param #   \n",
            "=================================================================\n",
            " dense_6 (Dense)             (None, 75)                307275    \n",
            "                                                                 \n",
            " dense_7 (Dense)             (None, 40)                3040      \n",
            "                                                                 \n",
            "=================================================================\n",
            "Total params: 310,315\n",
            "Trainable params: 310,315\n",
            "Non-trainable params: 0\n",
            "_________________________________________________________________\n"
          ]
        }
      ]
    },
    {
      "cell_type": "markdown",
      "source": [
        "Se puede comprobar que al ejecutar obtenemos el mismo resultado que habíamos calculado."
      ],
      "metadata": {
        "id": "dOeP3gIcibhl"
      }
    }
  ]
}